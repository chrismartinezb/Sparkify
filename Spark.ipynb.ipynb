{
    "nbformat_minor": 2, 
    "cells": [
        {
            "source": "# Sparkify Project Workspace\nThis workspace contains a tiny subset (128MB) of the full dataset available (12GB). Feel free to use this workspace to build your project, or to explore a smaller subset with Spark before deploying your cluster on the cloud. Instructions for setting up your Spark cluster is included in the last lesson of the Extracurricular Spark Course content.\n\nYou can follow the steps below to guide your data analysis and model building portion of this project.", 
            "cell_type": "markdown", 
            "metadata": {}
        }, 
        {
            "execution_count": 1, 
            "cell_type": "code", 
            "metadata": {}, 
            "outputs": [
                {
                    "output_type": "stream", 
                    "name": "stdout", 
                    "text": "Waiting for a Spark session to start...\nSpark Initialization Done! ApplicationId = app-20190514180936-0000\nKERNEL_ID = a8fb1a54-b8e1-4592-94b7-5568154e1a2f\n"
                }
            ], 
            "source": "# import libraries\nfrom pyspark.sql import SparkSession, Window\nfrom pyspark import SparkFiles\nfrom pyspark.sql.functions import avg, col, concat, count, desc, \\\nasc, explode, lit, min, max, split, stddev, udf, isnan, when, rank, \\\nlog, sqrt, cbrt, exp\nfrom pyspark.sql.functions import sum as Fsum\nfrom pyspark.sql.types import IntegerType\n\nfrom pyspark.ml import Pipeline \nfrom pyspark.ml.classification import LogisticRegression, \\\nLogisticRegressionModel, RandomForestClassifier, \\\nRandomForestClassificationModel, GBTClassifier, \\\nGBTClassificationModel\nfrom pyspark.ml.evaluation import MulticlassClassificationEvaluator\nfrom pyspark.mllib.evaluation import MulticlassMetrics\n\nfrom pyspark.ml.feature import CountVectorizer, IDF, Normalizer, \\\nPCA, RegexTokenizer, Tokenizer, StandardScaler, StopWordsRemover, \\\nStringIndexer, VectorAssembler, MaxAbsScaler\nfrom pyspark.ml.regression import LinearRegression\nfrom pyspark.ml.clustering import KMeans\nfrom pyspark.ml.tuning import CrossValidator, ParamGridBuilder\nimport pandas as pd\nimport numpy as np\nimport seaborn as sns\nimport matplotlib as plt"
        }, 
        {
            "execution_count": 2, 
            "cell_type": "code", 
            "metadata": {}, 
            "outputs": [
                {
                    "execution_count": 2, 
                    "metadata": {}, 
                    "data": {
                        "text/plain": "[Row(artist='Martin Orford', auth='Logged In', firstName='Joseph', gender='M', itemInSession=20, lastName='Morales', length=597.55057, level='free', location='Corpus Christi, TX', method='PUT', page='NextSong', registration=1532063507000, sessionId=292, song='Grand Designs', status=200, ts=1538352011000, userAgent='\"Mozilla/5.0 (Macintosh; Intel Mac OS X 10_9_4) AppleWebKit/537.36 (KHTML, like Gecko) Chrome/36.0.1985.125 Safari/537.36\"', userId='293'),\n Row(artist=\"John Brown's Body\", auth='Logged In', firstName='Sawyer', gender='M', itemInSession=74, lastName='Larson', length=380.21179, level='free', location='Houston-The Woodlands-Sugar Land, TX', method='PUT', page='NextSong', registration=1538069638000, sessionId=97, song='Bulls', status=200, ts=1538352025000, userAgent='\"Mozilla/5.0 (Macintosh; Intel Mac OS X 10_9_4) AppleWebKit/537.36 (KHTML, like Gecko) Chrome/36.0.1985.143 Safari/537.36\"', userId='98'),\n Row(artist='Afroman', auth='Logged In', firstName='Maverick', gender='M', itemInSession=184, lastName='Santiago', length=202.37016, level='paid', location='Orlando-Kissimmee-Sanford, FL', method='PUT', page='NextSong', registration=1535953455000, sessionId=178, song='Because I Got High', status=200, ts=1538352118000, userAgent='\"Mozilla/5.0 (Macintosh; Intel Mac OS X 10_9_4) AppleWebKit/537.36 (KHTML, like Gecko) Chrome/36.0.1985.143 Safari/537.36\"', userId='179'),\n Row(artist=None, auth='Logged In', firstName='Maverick', gender='M', itemInSession=185, lastName='Santiago', length=None, level='paid', location='Orlando-Kissimmee-Sanford, FL', method='PUT', page='Logout', registration=1535953455000, sessionId=178, song=None, status=307, ts=1538352119000, userAgent='\"Mozilla/5.0 (Macintosh; Intel Mac OS X 10_9_4) AppleWebKit/537.36 (KHTML, like Gecko) Chrome/36.0.1985.143 Safari/537.36\"', userId='179'),\n Row(artist='Lily Allen', auth='Logged In', firstName='Gianna', gender='F', itemInSession=22, lastName='Campos', length=194.53342, level='paid', location='Mobile, AL', method='PUT', page='NextSong', registration=1535931018000, sessionId=245, song='Smile (Radio Edit)', status=200, ts=1538352124000, userAgent='Mozilla/5.0 (Windows NT 6.1; WOW64; rv:31.0) Gecko/20100101 Firefox/31.0', userId='246')]"
                    }, 
                    "output_type": "execute_result"
                }
            ], 
            "source": "# The code was removed by Watson Studio for sharing."
        }, 
        {
            "source": "# Load and Clean Dataset\nIn this workspace, the mini-dataset file is `mini_sparkify_event_data.json`. Load and clean the dataset, checking for invalid or missing data - for example, records without userids or sessionids. ", 
            "cell_type": "markdown", 
            "metadata": {}
        }, 
        {
            "execution_count": 3, 
            "cell_type": "code", 
            "metadata": {}, 
            "outputs": [
                {
                    "execution_count": 3, 
                    "metadata": {}, 
                    "data": {
                        "text/plain": "543705"
                    }, 
                    "output_type": "execute_result"
                }
            ], 
            "source": "#Getting rid of Nan values\ndf.count()"
        }, 
        {
            "execution_count": 4, 
            "cell_type": "code", 
            "metadata": {}, 
            "outputs": [
                {
                    "execution_count": 4, 
                    "metadata": {}, 
                    "data": {
                        "text/plain": "543705"
                    }, 
                    "output_type": "execute_result"
                }
            ], 
            "source": "df = df.dropna(how = \"any\", subset = [\"userId\", \"sessionId\"])\ndf.count()"
        }, 
        {
            "execution_count": 5, 
            "cell_type": "code", 
            "metadata": {}, 
            "outputs": [
                {
                    "execution_count": 5, 
                    "metadata": {}, 
                    "data": {
                        "text/plain": "528005"
                    }, 
                    "output_type": "execute_result"
                }
            ], 
            "source": "df = df.filter(df.userId!=\"\")\ndf.count()"
        }, 
        {
            "source": "# Exploratory Data Analysis\nWhen you're working with the full dataset, perform EDA by loading a small subset of the data and doing basic manipulations within Spark. In this workspace, you are already provided a small subset of data you can explore.\n\n### Define Churn\n\nOnce you've done some preliminary analysis, create a column `Churn` to use as the label for your model. I suggest using the `Cancellation Confirmation` events to define your churn, which happen for both paid and free users. As a bonus task, you can also look into the `Downgrade` events.\n\n### Explore Data\nOnce you've defined churn, perform some exploratory data analysis to observe the behavior for users who stayed vs users who churned. You can start by exploring aggregates on these two groups of users, observing how much of a specific action they experienced per a certain time unit or number of songs played.", 
            "cell_type": "markdown", 
            "metadata": {}
        }, 
        {
            "execution_count": 6, 
            "cell_type": "code", 
            "metadata": {}, 
            "outputs": [
                {
                    "output_type": "stream", 
                    "name": "stdout", 
                    "text": "root\n |-- artist: string (nullable = true)\n |-- auth: string (nullable = true)\n |-- firstName: string (nullable = true)\n |-- gender: string (nullable = true)\n |-- itemInSession: long (nullable = true)\n |-- lastName: string (nullable = true)\n |-- length: double (nullable = true)\n |-- level: string (nullable = true)\n |-- location: string (nullable = true)\n |-- method: string (nullable = true)\n |-- page: string (nullable = true)\n |-- registration: long (nullable = true)\n |-- sessionId: long (nullable = true)\n |-- song: string (nullable = true)\n |-- status: long (nullable = true)\n |-- ts: long (nullable = true)\n |-- userAgent: string (nullable = true)\n |-- userId: string (nullable = true)\n\n"
                }
            ], 
            "source": "#Let us get a quick overview of the dataset\ndf.printSchema()"
        }, 
        {
            "execution_count": 7, 
            "cell_type": "code", 
            "metadata": {}, 
            "outputs": [
                {
                    "output_type": "stream", 
                    "name": "stdout", 
                    "text": "+-------+-----------------+---------+---------+------+------------------+--------+------------------+------+----------------+------+-------+--------------------+------------------+--------------------+------------------+--------------------+--------------------+------------------+\n|summary|           artist|     auth|firstName|gender|     itemInSession|lastName|            length| level|        location|method|   page|        registration|         sessionId|                song|            status|                  ts|           userAgent|            userId|\n+-------+-----------------+---------+---------+------+------------------+--------+------------------+------+----------------+------+-------+--------------------+------------------+--------------------+------------------+--------------------+--------------------+------------------+\n|  count|           432877|   528005|   528005|528005|            528005|  528005|            432877|528005|          528005|528005| 528005|              528005|            528005|              432877|            528005|              528005|              528005|            528005|\n|   mean|527.5289537712895|     null|     null|  null|107.77899451709737|    null|248.66459278007738|  null|            null|  null|   null|1.535523414862437E12|2042.9801820058522|            Infinity|209.09106163767387|1.540966927748435...|                null| 60268.42669103512|\n| stddev|966.1072451772758|     null|     null|  null| 116.8647866296988|    null| 98.41266955051972|  null|            null|  null|   null|3.0787254929957166E9|1433.9981489410682|                 NaN|30.148777830591797|1.4812330940351417E9|                null|109898.82324176628|\n|    min|              !!!|Cancelled|  Aaliyah|     F|                 0|  Abbott|           0.78322|  free|       Akron, OH|   GET|  About|       1509854193000|                 1|\u001c\u00c3\u0083\u00c2\u0089g \u00c3\u0083\u00c2\u0081tti Gr...|               200|       1538352011000|\"Mozilla/5.0 (Mac...|                10|\n|    max|\u00c3\u0083\u00c2\u0093lafur Arnalds|Logged In|   Zyonna|     M|              1005|  Wright|        3024.66567|  paid|York-Hanover, PA|   PUT|Upgrade|       1543073874000|              4808|\u00c3\u0083\u00c2\u00beetta Gerist \u00c3...|               404|       1543622466000|Mozilla/5.0 (comp...|                99|\n+-------+-----------------+---------+---------+------+------------------+--------+------------------+------+----------------+------+-------+--------------------+------------------+--------------------+------------------+--------------------+--------------------+------------------+\n\n"
                }
            ], 
            "source": "df.describe().show()"
        }, 
        {
            "execution_count": 8, 
            "cell_type": "code", 
            "metadata": {}, 
            "outputs": [], 
            "source": "#lets include a time column\nimport datetime\nget_time = udf(lambda x: datetime.datetime.fromtimestamp(x / 1000.0).strftime(\"%Y-%m-%d %H:%M:%S\"))\ndf = df.withColumn(\"time\", get_time(df.ts))"
        }, 
        {
            "execution_count": 9, 
            "cell_type": "code", 
            "metadata": {}, 
            "outputs": [], 
            "source": "df = df.withColumn(\"regdate\", get_time(df.registration))"
        }, 
        {
            "execution_count": 10, 
            "cell_type": "code", 
            "metadata": {}, 
            "outputs": [], 
            "source": "#Lets write some SQL queries\ndf.createOrReplaceTempView(\"df\")"
        }, 
        {
            "execution_count": 11, 
            "cell_type": "code", 
            "metadata": {
                "scrolled": true
            }, 
            "outputs": [
                {
                    "output_type": "stream", 
                    "name": "stdout", 
                    "text": "+--------------------+\n|                page|\n+--------------------+\n|              Cancel|\n|    Submit Downgrade|\n|         Thumbs Down|\n|                Home|\n|           Downgrade|\n|         Roll Advert|\n|              Logout|\n|       Save Settings|\n|Cancellation Conf...|\n|               About|\n|            Settings|\n|     Add to Playlist|\n|          Add Friend|\n|            NextSong|\n|           Thumbs Up|\n|                Help|\n|             Upgrade|\n|               Error|\n|      Submit Upgrade|\n+--------------------+\n\n"
                }
            ], 
            "source": "spark.sql('''SELECT DISTINCT page\n          FROM df           \n          LIMIT 5000''').show(500)"
        }, 
        {
            "execution_count": 12, 
            "cell_type": "code", 
            "metadata": {}, 
            "outputs": [
                {
                    "output_type": "stream", 
                    "name": "stdout", 
                    "text": "+------+\n|userID|\n+------+\n|100010|\n|200002|\n|   296|\n|   124|\n|    51|\n+------+\nonly showing top 5 rows\n\n"
                }
            ], 
            "source": "spark.sql('''SELECT DISTINCT userID\n          FROM df \n          WHERE page == \"Cancellation Confirmation\"\n          Group by userID,page\n          LIMIT 5000''').show(5)"
        }, 
        {
            "execution_count": 13, 
            "cell_type": "code", 
            "metadata": {
                "scrolled": false
            }, 
            "outputs": [
                {
                    "output_type": "stream", 
                    "name": "stdout", 
                    "text": "+------+-------------------+--------+---------+-------------------+\n|userID|               song|    page|sessionID|               time|\n+------+-------------------+--------+---------+-------------------+\n|    10|      Ses Monuments|NextSong|        9|2018-10-08 02:20:20|\n|    10|               null|    Home|        9|2018-10-08 02:20:43|\n|    10|      Big Jet Plane|NextSong|        9|2018-10-08 02:24:45|\n|    10|Act Nice And Gentle|NextSong|        9|2018-10-08 02:28:44|\n|    10|               Loca|NextSong|        9|2018-10-08 02:31:21|\n+------+-------------------+--------+---------+-------------------+\nonly showing top 5 rows\n\n"
                }
            ], 
            "source": "#How many user are in our dataset\nspark.sql('''SELECT userID, song, page, sessionID, time \n          FROM df \n          WHERE userID == '10'\n          ORDER BY time \n          LIMIT 5000''').show(5)"
        }, 
        {
            "execution_count": 14, 
            "cell_type": "code", 
            "metadata": {}, 
            "outputs": [], 
            "source": "#adding the churn column\nchurn_users = spark.sql('''SELECT DISTINCT userID\n          FROM df \n          WHERE page == \"Cancellation Confirmation\"\n          Group by userID\n          LIMIT 5000''').collect()\n\nchurn_users_list = [(row['userID']) for row in churn_users]\n\ndf_withchurn = df.withColumn(\"churn\", df.userId.isin(churn_users_list))"
        }, 
        {
            "execution_count": 15, 
            "cell_type": "code", 
            "metadata": {}, 
            "outputs": [
                {
                    "output_type": "stream", 
                    "name": "stdout", 
                    "text": "+----------------------+-----+----+\n|count(DISTINCT userID)|month|year|\n+----------------------+-----+----+\n|                   430|   10|2018|\n|                   383|   11|2018|\n|                     4|   12|2018|\n+----------------------+-----+----+\n\n"
                }
            ], 
            "source": "#customers at the start of each month\ndf_withchurn.createOrReplaceTempView(\"df_churn\")\n\nspark.sql('''SELECT COUNT(DISTINCT userID), MONTH(time) as month, YEAR(time) as year\n          FROM df_churn \n          GROUP BY month, year\n          ORDER BY year, month\n          LIMIT 5000''').show()"
        }, 
        {
            "execution_count": 16, 
            "cell_type": "code", 
            "metadata": {}, 
            "outputs": [
                {
                    "output_type": "stream", 
                    "name": "stdout", 
                    "text": "+----------------------+--------+-------+\n|count(DISTINCT userID)|regmonth|regyear|\n+----------------------+--------+-------+\n|                     1|      11|   2017|\n|                     1|       2|   2018|\n|                     2|       3|   2018|\n|                     4|       4|   2018|\n|                     5|       5|   2018|\n|                    15|       6|   2018|\n|                    50|       7|   2018|\n|                   116|       8|   2018|\n|                   250|       9|   2018|\n|                     1|      10|   2018|\n|                     3|      11|   2018|\n+----------------------+--------+-------+\n\n"
                }
            ], 
            "source": "#new customers per month \nspark.sql('''SELECT COUNT(DISTINCT userID),MONTH(regdate) as regmonth, YEAR(regdate) as regyear\n          FROM df_churn \n          GROUP BY regmonth,regyear\n          ORDER BY regyear,regmonth\n          LIMIT 5000''').show()"
        }, 
        {
            "execution_count": 17, 
            "cell_type": "code", 
            "metadata": {}, 
            "outputs": [
                {
                    "output_type": "stream", 
                    "name": "stderr", 
                    "text": "/opt/ibm/conda/miniconda3/lib/python3.5/site-packages/seaborn/categorical.py:1508: FutureWarning: remove_na is deprecated and is a private function. Do not use.\n  stat_data = remove_na(group_data[hue_mask])\n"
                }, 
                {
                    "output_type": "display_data", 
                    "data": {
                        "image/png": "[encoded data removed]", 
                        "text/plain": "<matplotlib.figure.Figure at 0x2adb9103d048>"
                    }, 
                    "metadata": {}
                }
            ], 
            "source": "#lets check gender\n\ndf_withchurn.createOrReplaceTempView(\"df_churn\")\n\nplot_gender = spark.sql('''SELECT COUNT(DISTINCT userID) as count, gender, churn\n          FROM df_churn \n          Group by gender, churn\n          ORDER BY churn\n          LIMIT 5000''').toPandas()\nimport seaborn as sns\nimport matplotlib as plt\nsns.barplot(x='churn', y='count', hue='gender', data=plot_gender);"
        }, 
        {
            "execution_count": 18, 
            "cell_type": "code", 
            "metadata": {}, 
            "outputs": [
                {
                    "output_type": "stream", 
                    "name": "stderr", 
                    "text": "/opt/ibm/conda/miniconda3/lib/python3.5/site-packages/seaborn/categorical.py:1460: FutureWarning: remove_na is deprecated and is a private function. Do not use.\n  stat_data = remove_na(group_data)\n"
                }, 
                {
                    "output_type": "display_data", 
                    "data": {
                        "image/png": "[encoded data removed]", 
                        "text/plain": "<matplotlib.figure.Figure at 0x2adb93fc1b38>"
                    }, 
                    "metadata": {}
                }
            ], 
            "source": "#level\nplot_level = spark.sql('''SELECT COUNT(DISTINCT userID) as count, level, churn\n          FROM df_churn \n          Where page == \"Cancellation Confirmation\"\n          Group by level, churn\n          ORDER BY churn\n          LIMIT 5000''').toPandas()\n\nsns.barplot(x='level', y='count', data=plot_level);"
        }, 
        {
            "execution_count": 19, 
            "cell_type": "code", 
            "metadata": {}, 
            "outputs": [
                {
                    "output_type": "stream", 
                    "name": "stdout", 
                    "text": "+-----------+--------------------+-----+\n|count(page)|                page|churn|\n+-----------+--------------------+-----+\n|        185|               About| true|\n|        841|               About|false|\n|       1537|          Add Friend| true|\n|       6550|          Add Friend|false|\n|       2259|     Add to Playlist| true|\n|      10090|     Add to Playlist|false|\n|         99|              Cancel| true|\n|         99|Cancellation Conf...| true|\n|        831|           Downgrade| true|\n|       2980|           Downgrade|false|\n|        406|               Error|false|\n|         97|               Error| true|\n|       2127|                Help|false|\n|        517|                Help| true|\n|       3778|                Home| true|\n|      15311|                Home|false|\n|       4806|              Logout|false|\n|       1184|              Logout| true|\n|       5587|         Roll Advert|false|\n|       2186|         Roll Advert| true|\n|        481|       Save Settings|false|\n|        104|       Save Settings| true|\n|       2345|            Settings|false|\n|        619|            Settings| true|\n|         29|    Submit Downgrade| true|\n|         88|    Submit Downgrade|false|\n|        217|      Submit Upgrade|false|\n|         70|      Submit Upgrade| true|\n|       3755|         Thumbs Down|false|\n|       1156|         Thumbs Down| true|\n|      19526|           Thumbs Up|false|\n|       4300|           Thumbs Up| true|\n|        731|             Upgrade|false|\n|        237|             Upgrade| true|\n+-----------+--------------------+-----+\n\n"
                }
            ], 
            "source": "#page frequency\n\n\nspark.sql('''SELECT COUNT(page), page,churn\n          FROM df_churn \n          Where page NOT IN (\"NextSong\") \n          Group by page, churn\n          ORDER BY page\n          LIMIT 5000''').show(50)"
        }, 
        {
            "source": "# Feature Engineering\nOnce you've familiarized yourself with the data, build out the features you find promising to train your model on. To work with the full dataset, you can follow the following steps.\n- Write a script to extract the necessary features from the smaller subset of data\n- Ensure that your script is scalable, using the best practices discussed in Lesson 3\n- Try your script on the full data set, debugging your script if necessary\n\nIf you are working in the classroom workspace, you can just extract features based on the small subset of data contained here. Be sure to transfer over this work to the larger dataset when you work on your Spark cluster.", 
            "cell_type": "markdown", 
            "metadata": {}
        }, 
        {
            "execution_count": 20, 
            "cell_type": "code", 
            "metadata": {}, 
            "outputs": [
                {
                    "output_type": "stream", 
                    "name": "stdout", 
                    "text": "+------+-----+\n|userID|churn|\n+------+-----+\n|    10|    1|\n|   100|    0|\n|100001|    1|\n|100002|    0|\n|100003|    1|\n|100004|    1|\n|100005|    1|\n|100006|    0|\n|100007|    0|\n|100008|    0|\n|100009|    0|\n|100010|    1|\n|100011|    1|\n|100012|    1|\n|100013|    1|\n|100014|    1|\n|100015|    0|\n|100016|    1|\n|100017|    1|\n|100018|    1|\n+------+-----+\nonly showing top 20 rows\n\n"
                }
            ], 
            "source": "#churn to binary\n\ndf_churn_b = spark.sql('''SELECT DISTINCT userID,\n          CASE WHEN churn == true THEN 1 ELSE 0 END as churn\n          FROM df_churn\n          GROUP BY userID, churn\n          ORDER BY userID\n          ''')\n\ndf_churn_b.show()"
        }, 
        {
            "execution_count": 21, 
            "cell_type": "code", 
            "metadata": {}, 
            "outputs": [
                {
                    "output_type": "stream", 
                    "name": "stdout", 
                    "text": "+------+------+\n|userID|gender|\n+------+------+\n|    10|     1|\n|   100|     1|\n|100001|     0|\n|100002|     0|\n|100003|     0|\n|100004|     0|\n|100005|     1|\n|100006|     0|\n|100007|     0|\n|100008|     0|\n|100009|     1|\n|100010|     0|\n|100011|     1|\n|100012|     1|\n|100013|     0|\n|100014|     1|\n|100015|     0|\n|100016|     1|\n|100017|     1|\n|100018|     1|\n+------+------+\nonly showing top 20 rows\n\n"
                }
            ], 
            "source": "#gender\ndf_gender = spark.sql('''SELECT DISTINCT userID,\n          CASE WHEN gender IN (\"M\") THEN 1 ELSE 0 END as gender\n          FROM df_churn\n          ORDER BY userID\n          ''')\ndf_gender = df_gender.withColumn('gender', df_gender.gender.cast(\"int\"))\n\n\ndf_gender.show()"
        }, 
        {
            "execution_count": 22, 
            "cell_type": "code", 
            "metadata": {}, 
            "outputs": [
                {
                    "output_type": "stream", 
                    "name": "stdout", 
                    "text": "+------+-----+\n|userID|songs|\n+------+-----+\n|    10|  360|\n|   100| 3382|\n|100001|   96|\n|100002|  137|\n|100003|  661|\n|100004|  262|\n|100005|   72|\n|100006|  295|\n|100007|  853|\n|100008|  386|\n|100009| 2412|\n|100010|   96|\n|100011| 1021|\n|100012|  112|\n|100013|   20|\n|100014|  332|\n|100015|  381|\n|100016|  163|\n|100017|  127|\n|100018|  124|\n+------+-----+\nonly showing top 20 rows\n\n"
                }
            ], 
            "source": "#number of songs played\ndf_songs_played = spark.sql('''SELECT DISTINCT userID, COUNT(song) as songs\n          FROM df_churn\n          WHERE song NOT IN (\"Null\")\n          GROUP by userID\n          ORDER BY userID\n          ''')\n\ndf_songs_played.show()"
        }, 
        {
            "execution_count": 23, 
            "cell_type": "code", 
            "metadata": {}, 
            "outputs": [
                {
                    "output_type": "stream", 
                    "name": "stdout", 
                    "text": "+------+---------+\n|userID|thumbs_up|\n+------+---------+\n|    10|       17|\n|   100|      143|\n|100001|        5|\n|100002|        8|\n|100003|       16|\n|100004|       15|\n|100005|        2|\n|100006|       14|\n|100007|       40|\n|100008|       19|\n|100009|      111|\n|100010|        4|\n|100011|       33|\n|100012|        1|\n|100013|        2|\n|100014|       14|\n|100015|       19|\n|100016|        8|\n|100017|        9|\n|100018|        8|\n+------+---------+\nonly showing top 20 rows\n\n"
                }
            ], 
            "source": "#thumbs up\ndf_t_up = spark.sql('''SELECT DISTINCT userID, count(page) as thumbs_up\n          FROM df_churn\n          WHERE page == \"Thumbs Up\"\n          GROUP BY userID\n          ORDER BY userID\n          ''')\ndf_t_up.show()"
        }, 
        {
            "execution_count": 24, 
            "cell_type": "code", 
            "metadata": {}, 
            "outputs": [
                {
                    "output_type": "stream", 
                    "name": "stdout", 
                    "text": "+------+-----------+\n|userID|thumbs_down|\n+------+-----------+\n|    10|          1|\n|   100|         37|\n|100001|          1|\n|100002|          2|\n|100003|         10|\n|100004|          2|\n|100005|          1|\n|100006|          3|\n|100007|          6|\n|100008|          5|\n|100009|         26|\n|100010|          3|\n|100011|         17|\n|100012|          2|\n|100013|          1|\n|100014|          3|\n|100015|          6|\n|100017|          3|\n|100018|          1|\n|100019|          3|\n+------+-----------+\nonly showing top 20 rows\n\n"
                }
            ], 
            "source": "#thumbs down\ndf_t_down = spark.sql('''SELECT DISTINCT userID, count(page) as thumbs_down\n          FROM df_churn\n          WHERE page == \"Thumbs Down\"\n          GROUP BY userID\n          ORDER BY userID\n          ''')\ndf_t_down.show()"
        }, 
        {
            "execution_count": 25, 
            "cell_type": "code", 
            "metadata": {}, 
            "outputs": [
                {
                    "output_type": "stream", 
                    "name": "stdout", 
                    "text": "+------+------+\n|userID|artist|\n+------+------+\n|    10|   306|\n|   100|  1963|\n|100001|    93|\n|100002|   128|\n|100003|   545|\n|100004|   242|\n|100005|    69|\n|100006|   261|\n|100007|   680|\n|100008|   336|\n|100009|  1543|\n|100010|    94|\n|100011|   769|\n|100012|   109|\n|100013|    20|\n|100014|   292|\n|100015|   346|\n|100016|   150|\n|100017|   124|\n|100018|   117|\n+------+------+\nonly showing top 20 rows\n\n"
                }
            ], 
            "source": "#number of artists\ndf_artists = spark.sql('''SELECT DISTINCT userID, count(distinct artist) as artist\n          FROM df_churn\n          GROUP BY userID\n          ORDER BY userID\n          ''')\ndf_artists.show()"
        }, 
        {
            "execution_count": 26, 
            "cell_type": "code", 
            "metadata": {}, 
            "outputs": [
                {
                    "output_type": "stream", 
                    "name": "stdout", 
                    "text": "+------+-----+\n|userID|level|\n+------+-----+\n|    10|    1|\n|   100|    0|\n|   100|    1|\n|100001|    0|\n|100002|    1|\n|100002|    0|\n|100003|    0|\n|100003|    1|\n|100004|    0|\n|100005|    0|\n|100006|    0|\n|100006|    1|\n|100007|    1|\n|100007|    0|\n|100008|    1|\n|100009|    0|\n|100009|    1|\n|100010|    0|\n|100011|    0|\n|100011|    1|\n+------+-----+\nonly showing top 20 rows\n\n"
                }
            ], 
            "source": "#level\ndf_level = spark.sql('''SELECT DISTINCT userID, CASE WHEN level == \"paid\" THEN 1 ELSE 0 END as level\n          FROM df_churn\n          GROUP BY userID, level\n          ORDER BY userID\n          ''')\ndf_level.show()"
        }, 
        {
            "execution_count": 27, 
            "cell_type": "code", 
            "metadata": {}, 
            "outputs": [], 
            "source": "#number of sessions\ndf_sessions = spark.sql('''SELECT DISTINCT userID, COUNT(DISTINCT sessionID) as sessions\n          FROM df_churn\n          GROUP BY userID\n          ORDER BY userID\n          ''')"
        }, 
        {
            "execution_count": 28, 
            "cell_type": "code", 
            "metadata": {}, 
            "outputs": [], 
            "source": "#average session time\ndf_avg = spark.sql('''SELECT DISTINCT userId,  sessionId, (MAX(ts) - MIN(ts)/ 1000*60) as duration\n          FROM df_churn\n          GROUP BY userId, sessionId\n          ORDER BY userId\n          ''')\ndf_avg.createOrReplaceTempView(\"df_avg\")\n\ndf_session_avg = spark.sql('''SELECT DISTINCT userId, MAX(duration) as max, MIN(duration) as min, AVG(duration) as avg_duration\n          FROM df_avg\n          GROUP BY userId\n          ORDER BY userId\n          ''')"
        }, 
        {
            "execution_count": 29, 
            "cell_type": "code", 
            "metadata": {}, 
            "outputs": [], 
            "source": "#mergin the features together\u00e7\ndf_final = spark.sql('''SELECT DISTINCT userID\n          FROM df_churn\n          ORDER BY userID\n          ''')\nfor feature in [df_gender, df_churn_b,df_t_up,df_t_down,df_songs_played, df_artists, df_session_avg,df_level, df_sessions]:\n      df_final = df_final.join(feature,'userId')"
        }, 
        {
            "execution_count": 30, 
            "cell_type": "code", 
            "metadata": {}, 
            "outputs": [
                {
                    "output_type": "stream", 
                    "name": "stdout", 
                    "text": "+------+------+-----+---------+-----------+-----+------+----------------+----------------+--------------------+-----+--------+\n|userID|gender|churn|thumbs_up|thumbs_down|songs|artist|             max|             min|        avg_duration|level|sessions|\n+------+------+-----+---------+-----------+-----+------+----------------+----------------+--------------------+-----+--------+\n|100010|     0|    1|        4|          3|   96|    94|1.44689977238E12|1.44666526248E12|    1.44678251743E12|    0|       2|\n|200002|     1|    1|       15|          5|  310|   287|1.44842602954E12| 1.4460990592E12|   1.446963503876E12|    1|       5|\n|200002|     1|    1|       15|          5|  310|   287|1.44842602954E12| 1.4460990592E12|   1.446963503876E12|    0|       5|\n|   125|     1|    0|        3|          1|   62|    61|1.44972974114E12|1.44618080848E12|1.447909877393333...|    0|       3|\n|   124|     0|    1|      102|         15| 1826|  1240|1.44943257412E12| 1.4461747632E12|1.447950851284705...|    1|      17|\n|    51|     1|    1|       16|          1|  266|   233|1.44732898398E12|1.44607821232E12|    1.44673937956E12|    1|       5|\n|     7|     1|    0|       12|          4|  462|   407|1.45080491836E12| 1.4461964714E12|1.448294386938666...|    0|      15|\n|200037|     1|    1|        5|          3|  122|   114| 1.4479276131E12|1.44667024758E12|1.447559027042857...|    0|       7|\n|   205|     0|    0|       50|         10| 1048|   803|1.45025517874E12|1.44639217544E12|   1.448178609364E12|    1|       5|\n|   272|     0|    0|        7|          4|   97|    93| 1.4481925329E12|1.44732587472E12|    1.44775920381E12|    0|       2|\n|    15|     1|    0|       93|         16| 1835|  1286|1.45055600564E12|1.44677946648E12|1.448778566437777...|    1|      18|\n|   232|     0|    0|       97|         17| 1876|  1280|1.45099751766E12| 1.4461239442E12|1.448394572587826...|    1|      23|\n|   232|     0|    0|       97|         17| 1876|  1280|1.45099751766E12| 1.4461239442E12|1.448394572587826...|    0|      23|\n|   234|     1|    1|       91|         22| 1674|  1173|1.44862471972E12|1.44616054928E12|1.447319566363846...|    1|      26|\n|   234|     1|    1|       91|         22| 1674|  1173|1.44862471972E12|1.44616054928E12|1.447319566363846...|    0|      26|\n|   282|     1|    0|      133|         29| 2629|  1641| 1.4508628913E12|1.44606727616E12|1.448723109738620...|    0|      29|\n|   282|     1|    0|      133|         29| 2629|  1641| 1.4508628913E12|1.44606727616E12|1.448723109738620...|    1|      29|\n|    54|     0|    1|       26|          7|  517|   438|1.44664841112E12| 1.4460534942E12|   1.446299519925E12|    1|       8|\n|200043|     0|    0|       33|         22|  615|   512|1.44983947088E12| 1.4461835329E12|1.448711004686666...|    0|      12|\n|200043|     0|    0|       33|         22|  615|   512|1.44983947088E12| 1.4461835329E12|1.448711004686666...|    1|      12|\n+------+------+-----+---------+-----------+-----+------+----------------+----------------+--------------------+-----+--------+\nonly showing top 20 rows\n\n"
                }
            ], 
            "source": "df_final.show()"
        }, 
        {
            "execution_count": 31, 
            "cell_type": "code", 
            "metadata": {}, 
            "outputs": [], 
            "source": "#lets save it \nout_path = \"final_data.csv\"\n\ndf_final.write.save(out_path, format=\"csv\", header=True)"
        }, 
        {
            "execution_count": 32, 
            "cell_type": "code", 
            "metadata": {}, 
            "outputs": [
                {
                    "execution_count": 32, 
                    "metadata": {}, 
                    "data": {
                        "text/plain": "DataFrame[userID: string, gender: string, churn: string, thumbs_up: string, thumbs_down: string, songs: string, artist: string, max: string, min: string, avg_duration: string, level: string, sessions: string]"
                    }, 
                    "output_type": "execute_result"
                }
            ], 
            "source": "df_final = spark.read.csv(out_path, header=True)\ndf_final.persist()"
        }, 
        {
            "execution_count": 33, 
            "cell_type": "code", 
            "metadata": {}, 
            "outputs": [], 
            "source": "#dtype change\nnum_features_list = df_final.columns[1:]\nfor f in num_features_list:\n    f_name = f + \"Num\"\n    df_final = df_final.withColumn(f_name, df_final[f].cast(\"float\"))\n    df_final = df_final.drop(f)"
        }, 
        {
            "execution_count": 34, 
            "cell_type": "code", 
            "metadata": {}, 
            "outputs": [], 
            "source": "# Rename churn column into label\ndataset = df_final.withColumn('label', df_final['churnNum'].cast('float')).drop('churn','churnNum') #important to have float type\n\n# Feature columns to be converted into vector\nfeature_cols = df_final.drop('label').drop('userId').drop('churnNum').columns"
        }, 
        {
            "execution_count": 35, 
            "cell_type": "code", 
            "metadata": {}, 
            "outputs": [
                {
                    "output_type": "stream", 
                    "name": "stdout", 
                    "text": "+------+---------+------------+--------------+--------+---------+-------------+-------------+---------------+--------+-----------+-----+\n|userID|genderNum|thumbs_upNum|thumbs_downNum|songsNum|artistNum|       maxNum|       minNum|avg_durationNum|levelNum|sessionsNum|label|\n+------+---------+------------+--------------+--------+---------+-------------+-------------+---------------+--------+-----------+-----+\n|100043|      0.0|        80.0|          29.0|  1568.0|   1106.0|1.44926101E12|1.44629249E12|  1.44770571E12|     1.0|       19.0|  1.0|\n|100043|      0.0|        80.0|          29.0|  1568.0|   1106.0|1.44926101E12|1.44629249E12|  1.44770571E12|     0.0|       19.0|  1.0|\n|   106|      0.0|        86.0|          15.0|  1649.0|   1183.0| 1.4506349E12|1.44671572E12|  1.44858703E12|     1.0|       18.0|  0.0|\n|   106|      0.0|        86.0|          15.0|  1649.0|   1183.0| 1.4506349E12|1.44671572E12|  1.44858703E12|     0.0|       18.0|  0.0|\n|   158|      1.0|         5.0|           2.0|    89.0|     87.0|1.45005032E12|1.44688375E12|  1.44797991E12|     0.0|        4.0|  0.0|\n|200026|      1.0|        40.0|          27.0|   798.0|    648.0|1.45098356E12|1.44609863E12|   1.4485215E12|     1.0|       15.0|  0.0|\n|200028|      1.0|        39.0|          28.0|   943.0|    732.0|1.44963469E12|1.44618619E12|  1.44801189E12|     0.0|       13.0|  1.0|\n|200028|      1.0|        39.0|          28.0|   943.0|    732.0|1.44963469E12|1.44618619E12|  1.44801189E12|     1.0|       13.0|  1.0|\n|300038|      1.0|       203.0|          22.0|  2268.0|   1475.0|1.45100544E12|1.44609942E12|  1.44820929E12|     1.0|       39.0|  0.0|\n|300038|      1.0|       203.0|          22.0|  2268.0|   1475.0|1.45100544E12|1.44609942E12|  1.44820929E12|     0.0|       39.0|  0.0|\n|    67|      1.0|        57.0|          18.0|  1178.0|    852.0|1.45100505E12|1.44626405E12|  1.44915287E12|     1.0|       15.0|  0.0|\n|    67|      1.0|        57.0|          18.0|  1178.0|    852.0|1.45100505E12|1.44626405E12|  1.44915287E12|     0.0|       15.0|  0.0|\n|100009|      1.0|       111.0|          26.0|  2412.0|   1543.0|1.45080412E12|1.44608657E12|  1.44804676E12|     0.0|       25.0|  0.0|\n|100009|      1.0|       111.0|          26.0|  2412.0|   1543.0|1.45080412E12|1.44608657E12|  1.44804676E12|     1.0|       25.0|  0.0|\n|100041|      1.0|         9.0|           2.0|   123.0|    114.0|1.44844141E12|1.44627899E12|  1.44739376E12|     0.0|        5.0|  1.0|\n|100041|      1.0|         9.0|           2.0|   123.0|    114.0|1.44844141E12|1.44627899E12|  1.44739376E12|     1.0|        5.0|  1.0|\n|   185|      1.0|       127.0|          30.0|  2631.0|   1621.0|1.45100689E12|1.44609011E12|  1.44808332E12|     0.0|       24.0|  0.0|\n|   185|      1.0|       127.0|          30.0|  2631.0|   1621.0|1.45100689E12|1.44609011E12|  1.44808332E12|     1.0|       24.0|  0.0|\n|200050|      1.0|        57.0|          35.0|  1070.0|    820.0|1.44930347E12|1.44626785E12|  1.44767805E12|     1.0|       23.0|  1.0|\n|200050|      1.0|        57.0|          35.0|  1070.0|    820.0|1.44930347E12|1.44626785E12|  1.44767805E12|     0.0|       23.0|  1.0|\n+------+---------+------------+--------------+--------+---------+-------------+-------------+---------------+--------+-----------+-----+\nonly showing top 20 rows\n\n"
                }
            ], 
            "source": "dataset.show()"
        }, 
        {
            "execution_count": 36, 
            "cell_type": "code", 
            "metadata": {}, 
            "outputs": [
                {
                    "execution_count": 36, 
                    "metadata": {}, 
                    "data": {
                        "text/plain": "['genderNum',\n 'thumbs_upNum',\n 'thumbs_downNum',\n 'songsNum',\n 'artistNum',\n 'maxNum',\n 'minNum',\n 'avg_durationNum',\n 'levelNum',\n 'sessionsNum']"
                    }, 
                    "output_type": "execute_result"
                }
            ], 
            "source": "feature_cols"
        }, 
        {
            "execution_count": 37, 
            "cell_type": "code", 
            "metadata": {}, 
            "outputs": [], 
            "source": "# Train-test split\ntrain, test = dataset.drop('userId').randomSplit([0.8, 0.2], seed=42)"
        }, 
        {
            "execution_count": 38, 
            "cell_type": "code", 
            "metadata": {}, 
            "outputs": [
                {
                    "output_type": "stream", 
                    "name": "stdout", 
                    "text": "+---------+------------+--------------+--------+---------+-------------+-------------+---------------+--------+-----------+-----+\n|genderNum|thumbs_upNum|thumbs_downNum|songsNum|artistNum|       maxNum|       minNum|avg_durationNum|levelNum|sessionsNum|label|\n+---------+------------+--------------+--------+---------+-------------+-------------+---------------+--------+-----------+-----+\n|      0.0|         1.0|           1.0|    19.0|     19.0|1.44691298E12|1.44691298E12|  1.44691298E12|     0.0|        1.0|  0.0|\n|      0.0|         6.0|           1.0|   136.0|    125.0|1.45094489E12|1.44619261E12|  1.44810626E12|     1.0|        4.0|  0.0|\n|      0.0|         6.0|           1.0|   163.0|    149.0|1.44880802E12|1.44615997E12|  1.44731603E12|     0.0|        4.0|  0.0|\n|      0.0|         6.0|           1.0|   163.0|    149.0|1.44880802E12|1.44615997E12|  1.44731603E12|     1.0|        4.0|  0.0|\n|      0.0|         8.0|           1.0|   192.0|    172.0|  1.450861E12|1.44618619E12|  1.44848401E12|     0.0|       13.0|  0.0|\n|      0.0|         8.0|           1.0|   192.0|    172.0|  1.450861E12|1.44618619E12|  1.44848401E12|     1.0|       13.0|  0.0|\n|      0.0|         8.0|           2.0|   137.0|    128.0|1.44867905E12|1.44676972E12|  1.44788357E12|     0.0|        4.0|  0.0|\n|      0.0|         8.0|           2.0|   137.0|    128.0|1.44867905E12|1.44676972E12|  1.44788357E12|     1.0|        4.0|  0.0|\n|      0.0|         9.0|           1.0|   167.0|    153.0|1.44954438E12|1.44750975E12|  1.44852713E12|     1.0|        2.0|  0.0|\n|      0.0|        13.0|           2.0|   404.0|    348.0|1.45100793E12|1.44611187E12|  1.44810521E12|     0.0|       14.0|  0.0|\n|      0.0|        13.0|           3.0|   286.0|    258.0|1.45034143E12|1.44674167E12|  1.44834901E12|     0.0|        9.0|  0.0|\n|      0.0|        13.0|           8.0|   227.0|    211.0|1.44644558E12|1.44621031E12|  1.44635645E12|     0.0|        3.0|  1.0|\n|      0.0|        15.0|           2.0|   262.0|    242.0|1.44714144E12|1.44623927E12|  1.44669147E12|     0.0|        5.0|  1.0|\n|      0.0|        16.0|           3.0|   354.0|    304.0|1.45058864E12|1.44667994E12|  1.44868232E12|     1.0|        7.0|  0.0|\n|      0.0|        19.0|           5.0|   386.0|    336.0|1.45100597E12|1.44637716E12|  1.44878757E12|     1.0|        6.0|  0.0|\n|      0.0|        19.0|           6.0|   302.0|    264.0|1.44862898E12|1.44636772E12|   1.4476846E12|     0.0|        4.0|  0.0|\n|      0.0|        19.0|           6.0|   302.0|    264.0|1.44862898E12|1.44636772E12|   1.4476846E12|     1.0|        4.0|  0.0|\n|      0.0|        21.0|           2.0|   423.0|    368.0|1.45062586E12|1.44633037E12|  1.44880212E12|     0.0|       13.0|  0.0|\n|      0.0|        21.0|           2.0|   423.0|    368.0|1.45062586E12|1.44633037E12|  1.44880212E12|     1.0|       13.0|  0.0|\n|      0.0|        23.0|           7.0|   552.0|    464.0|1.44775604E12|1.44607373E12|   1.4469468E12|     0.0|        8.0|  1.0|\n+---------+------------+--------------+--------+---------+-------------+-------------+---------------+--------+-----------+-----+\nonly showing top 20 rows\n\n"
                }
            ], 
            "source": "train.show()"
        }, 
        {
            "execution_count": 39, 
            "cell_type": "code", 
            "metadata": {}, 
            "outputs": [
                {
                    "output_type": "stream", 
                    "name": "stdout", 
                    "text": "+---------+------------+--------------+--------+---------+-------------+-------------+---------------+--------+-----------+-----+\n|genderNum|thumbs_upNum|thumbs_downNum|songsNum|artistNum|       maxNum|       minNum|avg_durationNum|levelNum|sessionsNum|label|\n+---------+------------+--------------+--------+---------+-------------+-------------+---------------+--------+-----------+-----+\n|      0.0|         2.0|           1.0|   101.0|     98.0|1.45041261E12| 1.4463845E12|  1.44903019E12|     0.0|        3.0|  0.0|\n|      0.0|         4.0|           3.0|   101.0|     98.0| 1.4489408E12|1.44654965E12|  1.44755393E12|     0.0|        6.0|  0.0|\n|      0.0|         4.0|           3.0|   101.0|     98.0| 1.4489408E12|1.44654965E12|  1.44755393E12|     1.0|        6.0|  0.0|\n|      0.0|        13.0|           2.0|   404.0|    348.0|1.45100793E12|1.44611187E12|  1.44810521E12|     1.0|       14.0|  0.0|\n|      0.0|        13.0|           8.0|   227.0|    211.0|1.44644558E12|1.44621031E12|  1.44635645E12|     1.0|        3.0|  1.0|\n|      0.0|        26.0|           3.0|   539.0|    448.0|1.45027786E12|1.44632486E12|  1.44834612E12|     1.0|       10.0|  0.0|\n|      0.0|        40.0|           7.0|   671.0|    553.0|1.44867905E12|1.44621371E12|  1.44739258E12|     1.0|        7.0|  1.0|\n|      0.0|        42.0|           5.0|   546.0|    459.0|1.44972277E12|1.44618933E12|  1.44764921E12|     1.0|        9.0|  0.0|\n|      0.0|        44.0|           7.0|   888.0|    701.0| 1.4509019E12|1.44639001E12|  1.44849751E12|     1.0|       24.0|  0.0|\n|      0.0|        52.0|          16.0|   993.0|    748.0|1.45031338E12|1.44619287E12|  1.44868114E12|     1.0|        8.0|  0.0|\n|      0.0|        59.0|          12.0|  1499.0|   1055.0|1.45100544E12|1.44690446E12|  1.44939942E12|     1.0|       12.0|  0.0|\n|      0.0|        94.0|          11.0|  1720.0|   1199.0|1.45068969E12|1.44665149E12|  1.44879098E12|     1.0|       16.0|  0.0|\n|      0.0|       112.0|          13.0|  2049.0|   1364.0|1.45086952E12| 1.4460521E12|   1.4483806E12|     1.0|       33.0|  0.0|\n|      0.0|       120.0|          24.0|  2492.0|   1599.0|1.45100505E12|1.44644204E12|  1.44903478E12|     1.0|       26.0|  0.0|\n|      1.0|         5.0|           2.0|    89.0|     87.0|1.45005032E12|1.44688375E12|  1.44797991E12|     0.0|        4.0|  0.0|\n|      1.0|        23.0|           1.0|   411.0|    361.0|1.45096665E12| 1.4461124E12|  1.44850656E12|     0.0|       18.0|  0.0|\n|      1.0|        37.0|           5.0|   651.0|    530.0|1.45084239E12|1.44698612E12|  1.44888758E12|     0.0|       11.0|  0.0|\n|      1.0|        38.0|           8.0|   759.0|    617.0|1.45060476E12|1.44636956E12|  1.44828033E12|     1.0|        6.0|  0.0|\n|      1.0|        38.0|          27.0|   984.0|    760.0| 1.4506754E12|1.44644584E12|  1.44850826E12|     0.0|       15.0|  0.0|\n|      1.0|        39.0|          28.0|   943.0|    732.0|1.44963469E12|1.44618619E12|  1.44801189E12|     1.0|       13.0|  1.0|\n+---------+------------+--------------+--------+---------+-------------+-------------+---------------+--------+-----------+-----+\nonly showing top 20 rows\n\n"
                }
            ], 
            "source": "test.show()"
        }, 
        {
            "source": "# Modeling\nSplit the full dataset into train, test, and validation sets. Test out several of the machine learning methods you learned. Evaluate the accuracy of the various models, tuning parameters as necessary. Determine your winning model based on test accuracy and report results on the validation set. Since the churned users are a fairly small subset, I suggest using F1 score as the metric to optimize.", 
            "cell_type": "markdown", 
            "metadata": {}
        }, 
        {
            "source": "### Base model and helper functions\n\nLets create a naive model that always predicts 0 , and compare it with linear regression and random forest, pick the best and tune it. \n\nI will also use some helper functions to make it easier.", 
            "cell_type": "markdown", 
            "metadata": {}
        }, 
        {
            "execution_count": 40, 
            "cell_type": "code", 
            "metadata": {}, 
            "outputs": [
                {
                    "output_type": "stream", 
                    "name": "stdout", 
                    "text": "Naive model:\n+------+---------+--------+------+\n|recall|precision|accuracy|    f1|\n+------+---------+--------+------+\n|0.7694|   0.5919|  0.7694|0.6691|\n+------+---------+--------+------+\n\n"
                }
            ], 
            "source": "#base \npred = dataset.select(\"label\").withColumn(\"prediction\", lit(0.0))\n\n# metrics\nevaluator = MulticlassClassificationEvaluator(predictionCol=\"prediction\", labelCol=\"label\")\nevalMetrics = {}\nevalMetrics[\"precision\"] = evaluator.evaluate(pred, {evaluator.metricName: \"weightedPrecision\"})\nevalMetrics[\"recall\"] = evaluator.evaluate(pred, {evaluator.metricName: \"weightedRecall\"})\nevalMetrics[\"f1\"] = evaluator.evaluate(pred, {evaluator.metricName: \"f1\"})\nevalMetrics[\"accuracy\"] = evaluator.evaluate(pred, {evaluator.metricName: \"accuracy\"})\n\n# get metrics\nmetrics_to_display = {k:round(v, 4) for k,v in evalMetrics.items()}\nspark.createDataFrame(pd.DataFrame([metrics_to_display], columns=metrics_to_display.keys())).show()"
        }, 
        {
            "execution_count": 41, 
            "cell_type": "code", 
            "metadata": {}, 
            "outputs": [], 
            "source": "def get_cv(classif, grid):\n    '''\n    Builds a cross validation pipeline object\n    \n    INPUT: Classifier and Grid of params to search for.\n    \n    OUTPUT: Crossvalidator object\n    \n    '''\n    \n    assembler = VectorAssembler(inputCols=feature_cols, outputCol=\"rawFeatures\")\n    scaler = MaxAbsScaler(inputCol=\"rawFeatures\", outputCol=\"scaledFeatures\")\n\n    pipeline = Pipeline(stages=[assembler, scaler, classifier])\n\n    \n    crossval = CrossValidator(\n        estimator=pipeline,\n        estimatorParamMaps=paramGrid,\n        evaluator=MulticlassClassificationEvaluator(metricName='f1'),\n        numFolds=3\n    )\n    \n    return crossval"
        }, 
        {
            "execution_count": 42, 
            "cell_type": "code", 
            "metadata": {}, 
            "outputs": [], 
            "source": "def train_model(classifier, train, paramGrid):\n    '''\n    Trains the model\n    \n    INPUT: classifier, paramgrid,training data\n    \n    OUTPUT: trained machine learning model\n    '''\n    \n    crossval = get_cv(classifier, paramGrid)\n\n    model = crossval.fit(train)\n    \n    return model"
        }, 
        {
            "execution_count": 43, 
            "cell_type": "code", 
            "metadata": {}, 
            "outputs": [], 
            "source": "def evaluate_model(model, data):\n    '''\n    Evaluates performance\n    \n    INPUT: trainedmodel, either test or train data\n    \n    OUTPUT: dictionary of metrics\n    '''\n\n    pred = model.transform(data)\n    \n    \n    \n    evalMetrics = {}\n    evalMetrics[\"precision\"] = evaluator.evaluate(pred, {evaluator.metricName: \"weightedPrecision\"})\n    evalMetrics[\"recall\"] = evaluator.evaluate(pred, {evaluator.metricName: \"weightedRecall\"})\n    evalMetrics[\"f1\"] = evaluator.evaluate(pred, {evaluator.metricName: \"f1\"})\n    evalMetrics[\"accuracy\"] = evaluator.evaluate(pred, {evaluator.metricName: \"accuracy\"})\n    \n    return evalMetrics"
        }, 
        {
            "execution_count": 44, 
            "cell_type": "code", 
            "metadata": {}, 
            "outputs": [], 
            "source": "def evaluate_train_test(model, train, test):\n    '''\n    Evaluates model performance on both train and test sets\n    \n    INPUT: trained model, train set, test set\n    \n    OUTPUT: table of evaluation metrics\n    '''\n    evalMetricsTraining = evaluate_model(model, train)\n    evalMetricsTesting = evaluate_model(model, test)\n\n    evalMetrics = {}\n    evalMetrics['f1_train'] = evalMetricsTraining['f1']\n    evalMetrics['acc_train'] = evalMetricsTraining['accuracy']\n    evalMetrics['f1_test'] = evalMetricsTesting['f1']\n    evalMetrics['acc_test'] = evalMetricsTesting['accuracy']\n\n\n    metrics_to_display = {k:round(v, 4) for k,v in evalMetrics.items()}\n    \n    summary = spark.createDataFrame(pd.DataFrame([metrics_to_display], columns=metrics_to_display.keys()))\n    \n    return evalMetrics, summary"
        }, 
        {
            "execution_count": 45, 
            "cell_type": "code", 
            "metadata": {}, 
            "outputs": [], 
            "source": "def train_eval(classifier, train, test, paramGrid):\n    '''\n    Train and evaluate model on both sets\n    \n    INPUT:untrained model, train set, test set, paramgrid\n    \n    OUTPUT: Metrrics summary, trained model\n    '''\n\n    model = train_model(classifier, train, paramGrid)\n    \n    \n    evalMetricsTraining = evaluate_model(model, train)\n    evalMetricsTesting = evaluate_model(model, test)\n\n  \n    evalMetrics = {}\n    evalMetrics['f1_train'] = evalMetricsTraining['f1']\n    evalMetrics['acc_train'] = evalMetricsTraining['accuracy']\n    evalMetrics['f1_test'] = evalMetricsTesting['f1']\n    evalMetrics['acc_test'] = evalMetricsTesting['accuracy']\n\n\n    \n    metrics_to_display = {\n        k:round(v, 4) for k,v in evalMetrics.items()}\n    summary = spark.createDataFrame(pd.DataFrame([metrics_to_display], columns=metrics_to_display.keys()))\n    \n    return summary, model"
        }, 
        {
            "source": "#### Linear Regression", 
            "cell_type": "markdown", 
            "metadata": {}
        }, 
        {
            "execution_count": 46, 
            "cell_type": "code", 
            "metadata": {}, 
            "outputs": [
                {
                    "output_type": "stream", 
                    "name": "stdout", 
                    "text": "+--------+-------+---------+--------+\n|f1_train|f1_test|acc_train|acc_test|\n+--------+-------+---------+--------+\n|  0.8661| 0.8547|    0.874|  0.8516|\n+--------+-------+---------+--------+\n\n"
                }
            ], 
            "source": "# Train LR model\nclassifier = LogisticRegression(labelCol=\"label\", featuresCol=\"scaledFeatures\")\nparamGrid=ParamGridBuilder().build()\nsummary, model = train_eval(classifier, train, test, paramGrid)\n\n# Save the best\nbestModel = model.bestModel\nbestCLModel = bestModel.stages[2]\nbestCLModel.write().overwrite().save(\"log_reg\")\n\n\n# Get metrics\nsummary.show()"
        }, 
        {
            "source": "#### Random Forest", 
            "cell_type": "markdown", 
            "metadata": {}
        }, 
        {
            "execution_count": 47, 
            "cell_type": "code", 
            "metadata": {
                "scrolled": true
            }, 
            "outputs": [
                {
                    "output_type": "stream", 
                    "name": "stdout", 
                    "text": "+--------+-------+---------+--------+\n|f1_train|f1_test|acc_train|acc_test|\n+--------+-------+---------+--------+\n|  0.9523| 0.9206|   0.9533|  0.9219|\n+--------+-------+---------+--------+\n\n"
                }
            ], 
            "source": "#Train RF\nclassifier = RandomForestClassifier(labelCol=\"label\", featuresCol=\"scaledFeatures\")\nparamGrid=ParamGridBuilder().build()\nsummary, model = train_eval(classifier, train, test, paramGrid)\n\n#Get best\nbestModel = model.bestModel\nbestCLModel = bestModel.stages[2]\nbestCLModel.write().overwrite().save(\"random_forest\")\n\n#Metrics\nsummary.show()"
        }, 
        {
            "source": "## Conclusion", 
            "cell_type": "markdown", 
            "metadata": {}
        }, 
        {
            "execution_count": 51, 
            "cell_type": "code", 
            "metadata": {}, 
            "outputs": [
                {
                    "output_type": "stream", 
                    "name": "stdout", 
                    "text": "+--------+-------+---------+--------+\n|f1_train|f1_test|acc_train|acc_test|\n+--------+-------+---------+--------+\n|  0.9775| 0.9279|   0.9776|  0.9297|\n+--------+-------+---------+--------+\n\n"
                }
            ], 
            "source": "#final model hyperparametcfsfer tuning\n\nclassifier = RandomForestClassifier(labelCol=\"label\", featuresCol=\"scaledFeatures\")\nparamGrid=ParamGridBuilder().addGrid(classifier.numTrees,[15, 20, 25]).addGrid(classifier.maxBins,[15,20,25]).addGrid(classifier.maxDepth,[2,4,6]).build()\n\nsummary, model = train_eval(classifier, train, test, paramGrid)\n\n\nbestModel = model.bestModel\nbestCLModel = bestModel.stages[2]\nbestCLModel.write().overwrite().save(\"random_forest_final\")\n\n\nsummary.show()"
        }, 
        {
            "execution_count": 52, 
            "cell_type": "code", 
            "metadata": {}, 
            "outputs": [], 
            "source": "#most important features\nbestModel = model.bestModel\nbestCLModel = bestModel.stages[2]\nbestParams = bestCLModel.extractParamMap()\n\n\nfeature_ind = bestCLModel.featureImportances.indices.tolist()\nfeature_name = [feature_cols[ind] for ind in feature_ind]\nfeature_coef = bestCLModel.featureImportances.values.tolist()\n\nfeature_coef_df = pd.DataFrame(list(zip(feature_name, feature_coef)), columns=['Feature', 'Coefficient']).sort_values('Coefficient', ascending=False)"
        }, 
        {
            "execution_count": 53, 
            "cell_type": "code", 
            "metadata": {}, 
            "outputs": [
                {
                    "output_type": "stream", 
                    "name": "stderr", 
                    "text": "/opt/ibm/conda/miniconda3/lib/python3.5/site-packages/seaborn/categorical.py:1460: FutureWarning: remove_na is deprecated and is a private function. Do not use.\n  stat_data = remove_na(group_data)\n"
                }, 
                {
                    "output_type": "display_data", 
                    "data": {
                        "image/png": "[encoded data removed]", 
                        "text/plain": "<matplotlib.figure.Figure at 0x2adb93fb8a20>"
                    }, 
                    "metadata": {}
                }
            ], 
            "source": "import matplotlib as plt\nsns.barplot(x='Coefficient', y='Feature', data=feature_coef_df.iloc[:20]);"
        }, 
        {
            "source": "# Final Steps\nClean up your code, adding comments and renaming variables to make the code easier to read and maintain. Refer to the Spark Project Overview page and Data Scientist Capstone Project Rubric to make sure you are including all components of the capstone project and meet all expectations. Remember, this includes thorough documentation in a README file in a Github repository, as well as a web app or blog post.", 
            "cell_type": "markdown", 
            "metadata": {}
        }
    ], 
    "metadata": {
        "kernelspec": {
            "display_name": "Python 3.5 with Spark", 
            "name": "python3", 
            "language": "python3"
        }, 
        "language_info": {
            "mimetype": "text/x-python", 
            "nbconvert_exporter": "python", 
            "version": "3.5.4", 
            "name": "python", 
            "file_extension": ".py", 
            "pygments_lexer": "ipython3", 
            "codemirror_mode": {
                "version": 3, 
                "name": "ipython"
            }
        }
    }, 
    "nbformat": 4
}